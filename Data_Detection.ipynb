{
  "nbformat": 4,
  "nbformat_minor": 0,
  "metadata": {
    "colab": {
      "provenance": [],
      "authorship_tag": "ABX9TyPr/r4lJ+fJ0b/zf300U03+",
      "include_colab_link": true
    },
    "kernelspec": {
      "name": "python3",
      "display_name": "Python 3"
    },
    "language_info": {
      "name": "python"
    }
  },
  "cells": [
    {
      "cell_type": "markdown",
      "metadata": {
        "id": "view-in-github",
        "colab_type": "text"
      },
      "source": [
        "<a href=\"https://colab.research.google.com/github/FadzararAI/Data_Checker/blob/main/Data_Detection.ipynb\" target=\"_parent\"><img src=\"https://colab.research.google.com/assets/colab-badge.svg\" alt=\"Open In Colab\"/></a>"
      ]
    },
    {
      "cell_type": "code",
      "execution_count": null,
      "metadata": {
        "id": "LJQ0mKebdZgI"
      },
      "outputs": [],
      "source": [
        "from urllib.request import urlopen\n",
        "import json\n",
        "import random\n",
        "import pandas\n",
        "\n",
        "import pandas\n",
        "import re"
      ]
    },
    {
      "cell_type": "markdown",
      "source": [
        "# User Data Generator using a free API"
      ],
      "metadata": {
        "id": "Kt87T7h_dhqb"
      }
    },
    {
      "cell_type": "code",
      "source": [
        "#Initiate dictionary to save the data\n",
        "person_list = {}"
      ],
      "metadata": {
        "id": "-DZjUB6kdgJf"
      },
      "execution_count": null,
      "outputs": []
    },
    {
      "cell_type": "code",
      "source": [
        "def d_generator(num):\n",
        "    def id_generator(): # Generates 16 digits of user ID randomly\n",
        "        a = [str(random.randint(1,9)) for i in range(16)]\n",
        "        b = ''.join(a)\n",
        "        return b\n",
        "    def person_generator(): # Using free API to generate user Data\n",
        "        for i in range(num):\n",
        "            response = urlopen(\"https://randomuser.me/api/\")\n",
        "            u_data = json.loads(response.read())\n",
        "            person_list[u_data['results'][0]['name']['first']] = [u_data['results'][0]['name']['last'],u_data['results'][0]['location']['city'],id_generator()]\n",
        "    person_generator()"
      ],
      "metadata": {
        "id": "a3phDxAqds78"
      },
      "execution_count": null,
      "outputs": []
    },
    {
      "cell_type": "code",
      "source": [
        "# Generates 100 people data\n",
        "d_generator(100)"
      ],
      "metadata": {
        "id": "dOT95w3Ld4X6"
      },
      "execution_count": null,
      "outputs": []
    },
    {
      "cell_type": "code",
      "source": [
        "# Seeing the rows of the data\n",
        "person_list"
      ],
      "metadata": {
        "colab": {
          "base_uri": "https://localhost:8080/"
        },
        "id": "VTjpv10md-mD",
        "outputId": "ea77f23b-ddea-4bf9-8ece-49d8ac1c6e70"
      },
      "execution_count": null,
      "outputs": [
        {
          "output_type": "execute_result",
          "data": {
            "text/plain": [
              "{'Mstibog': ['Kolomackiy', 'Kerch', '4277286289684439'],\n",
              " 'Gertrude': ['Bourgeois', 'Collonges', '4884536266993548'],\n",
              " 'Domingo': ['Bravo', 'Elche', '9261543811457368'],\n",
              " 'Brandon': ['Marshall', 'Fontana', '7115751848875236'],\n",
              " 'Rozaliya': ['Gerashchenko', 'Noviy Bug', '4979856129886448'],\n",
              " 'Sara': ['Andersen', 'København Ø', '4746178182344283'],\n",
              " 'Øystein': ['Fosser', 'Geilo', '8632919489963314'],\n",
              " 'Eleanor': ['Miller', 'Mullingar', '8182448729831742'],\n",
              " 'Wieslaw': ['Knoll', 'Calbe (Saale)', '7698635646123669'],\n",
              " 'Albert': ['Black', 'Youghal', '3322441458967761'],\n",
              " 'Sharron': ['Marshall', 'Naas', '1825139565897978'],\n",
              " 'Mathis': ['Clark', 'Victoria', '3572533172729751'],\n",
              " 'Leo': ['Rintala', 'Toivakka', '3585165988366373'],\n",
              " 'Amber': ['West', 'Londonderry', '2262322668982588'],\n",
              " 'Aleksi': ['Seppanen', 'Teuva', '1844729811176676'],\n",
              " 'Sander': ['Thomsen', 'København N', '6369672322169261'],\n",
              " 'Erin': ['Clark', 'Darwin', '8957584246321155'],\n",
              " 'Krish': ['Nayak', 'Giridih', '9666464986581569'],\n",
              " 'Marinei': ['da Rosa', 'Canoas', '9178417835996518'],\n",
              " 'Jatin': ['Saha', 'Ranchi', '3835664232469811'],\n",
              " 'Nevaeh': ['Carr', 'Launceston', '1556691821726928'],\n",
              " 'Tejas': ['Keshri', 'Bhagalpur', '2832653183918439'],\n",
              " 'Ulrike': ['Van de Graaf', 'Nuenen', '4877863747199541'],\n",
              " 'Kavitha': ['Salian', 'Berhampur', '9264738315369845'],\n",
              " 'Flenn': ['Henderson', 'Houston', '7947453372466667'],\n",
              " 'Paula': ['Vidal', 'Lorca', '3928323964162843'],\n",
              " 'Camille': ['Chu', 'Maidstone', '1446448716189243'],\n",
              " 'Suzanne': ['Edwards', 'Ely', '8925628838596868'],\n",
              " 'Nelson': ['Kelley', 'York', '8246456192841792'],\n",
              " 'Rasmus': ['Salmela', 'Loimaa', '1259513698569856'],\n",
              " 'Louise': ['Chevalier', 'Saint-Denis', '9931547518243272'],\n",
              " 'Minea': ['Haataja', 'Siikainen', '7497137251616971'],\n",
              " 'Darren': ['Nelson', 'Ripon', '2566366767482994'],\n",
              " 'Ava': ['Wilson', 'Souris', '6731383289389239'],\n",
              " 'Eilev': ['Saleh', 'Holm', '4328868117383565'],\n",
              " 'Zlata': ['Lučić', 'Bajina Bašta', '7412752727137464'],\n",
              " 'Naja': ['Pedersen', 'Stenderup', '3545835562966393'],\n",
              " 'Attila': ['Falk', 'Großbreitenbach', '8145428623845718'],\n",
              " 'Lukiya': ['Antoniv', 'Bolehiv', '2312449452767736'],\n",
              " 'Alexis': ['Wang', 'Hastings', '5297385823637489'],\n",
              " 'Emile': ['Jones', 'Sherbrooke', '5797753499552184'],\n",
              " 'Lenny': ['Mercier', 'Le Mans', '4158352729493812'],\n",
              " 'Christian': ['Jørgensen', 'København N', '6588765577481768'],\n",
              " 'Valdemar': ['Andersen', 'Randers Nv', '2188883285442568'],\n",
              " 'Madhura': ['Suvarna', 'Siliguri', '4269574745634148'],\n",
              " 'Charlie': ['Wells', 'San Diego', '2298124847612287'],\n",
              " 'Lucienne': ['Joly', 'Rodersdorf', '7568121449271113'],\n",
              " 'یلدا': ['موسوی', 'زاهدان', '4269726584597915'],\n",
              " 'Bertram': ['Johansen', 'Brøndby Strand', '5978587853252194'],\n",
              " 'Rhonda': ['Ruiz', 'Frederick', '6828456966964723'],\n",
              " 'Antonietta': ['Faure', 'Bavois', '7578223368776387'],\n",
              " 'Ali': ['Akgül', 'Antalya', '1578452429773936'],\n",
              " 'Gema': ['Navarro', 'Orense', '2111452859854322'],\n",
              " 'Joshua': ['Zhang', 'Dunedin', '2188998514958619'],\n",
              " 'Maelya': ['Marchand', 'Montreuil', '1366281652518425'],\n",
              " 'Chinouk': ['Westerveld', 'Teuge', '4221687146639983'],\n",
              " 'Ridna': ['Perepadya', 'Ugniv', '4245916929456224'],\n",
              " 'Stanko': ['Santrač', 'Kosovo Polje', '1887339859251778'],\n",
              " 'Victoria': ['Jensen', 'Argerskov', '5977391759897267'],\n",
              " 'Juliette': ['Macdonald', 'Richmond', '7393817613796589'],\n",
              " 'Maëlyne': ['Gonzalez', 'Vitry-sur-Seine', '6591868232612473'],\n",
              " 'Maren': ['Wiig', 'Harestua', '3556726945132575'],\n",
              " 'Velibor': ['Srećković', 'Bujanovac', '1292727129536973'],\n",
              " 'Danica': ['Ilić', 'Zaječar', '9145876183437379'],\n",
              " 'Kenzi': ['Walker', 'Mackay', '1459261237641248'],\n",
              " 'Maëlia': ['Nicolas', 'Nancy', '3779596224433532'],\n",
              " 'Maël': ['Petit', 'Aix-En-Provence', '8864542514447872'],\n",
              " 'Ivan': ['Boyer', 'Mühledorf (Be)', '7846377271757322'],\n",
              " 'Tristan': ['Young', 'St. George', '4789611959713865'],\n",
              " 'Mila': ['Chen', 'Invercargill', '4326211372744684'],\n",
              " 'Bertha': ['Großmann', 'Halle (Saale)', '6623429527194283'],\n",
              " 'Kaja': ['Hildrum', 'Liland', '8728985693916879'],\n",
              " 'Katalina': ['Vasić', 'Niš', '3533457271121812'],\n",
              " 'Kerim': ['Kavaklıoğlu', 'Hakkâri', '1781858941259833'],\n",
              " 'Eva': ['Diaz', 'Vigo', '4348576938226312'],\n",
              " 'Celestine': ['Gonzalez', 'Aulnay-sous-Bois', '6292369734798634'],\n",
              " 'Catharinus': ['Hermens', 'Rossum', '3726128863149259'],\n",
              " 'Cecilie': ['Andersen', 'Nr Åby', '6449126479275585'],\n",
              " 'Lot': ['Rodermond', 'Oudeschoot', '8393469769718379'],\n",
              " 'Judy': ['Fitzpatrick', 'Roscrea', '9921522316244891'],\n",
              " 'Peppi': ['Valli', 'Multia', '2442828797379911'],\n",
              " 'Caitlin': ['Lee', 'Taupo', '6396314625595371'],\n",
              " 'Marleen': ['Reindl', 'Tönning', '4873994739887639'],\n",
              " 'Ada': ['Reinke', 'Waldkappel', '8119197833349379'],\n",
              " 'Ariel': ['Skjelbred', 'Helgelandsmoen', '5623474249152238'],\n",
              " 'Rolando': ['Garica', 'Bavispe', '3528893936895875'],\n",
              " 'Milja': ['Annala', 'Paltamo', '3712672139745121'],\n",
              " 'Rosemarie': ['Knobloch', 'Darmstadt', '5727135635794517'],\n",
              " 'Emma': ['Nielsen', 'Nørre Sundby', '6458297618569472'],\n",
              " 'Jonas': ['Jørgensen', 'Amager', '9618129924951131'],\n",
              " 'Teresa': ['Mills', 'Portsmouth', '7644691921731221'],\n",
              " 'Niklas': ['Kuusisto', 'Ylitornio', '4226814411745133'],\n",
              " 'Lewis': ['Prescott', 'San Bernardino', '8222822843576119'],\n",
              " 'Lauritz': ['Løkke', 'Silvalen', '4852284185936857'],\n",
              " 'Eden': ['Walker', 'Gisborne', '7321357426488618'],\n",
              " 'Clayton': ['Daniels', 'Portmarnock', '5273699223163162'],\n",
              " 'Musiy': ['Kobilyanskiy', 'Dobromil', '7228459747921288']}"
            ]
          },
          "metadata": {},
          "execution_count": 5
        }
      ]
    },
    {
      "cell_type": "markdown",
      "source": [
        "## Data splitting and Transforming"
      ],
      "metadata": {
        "id": "jk0q3-eteUQY"
      }
    },
    {
      "cell_type": "code",
      "source": [
        "# Traditionally splitting data\n",
        "Name = []\n",
        "City = []\n",
        "ID = []"
      ],
      "metadata": {
        "id": "xIJlnHoieXFz"
      },
      "execution_count": null,
      "outputs": []
    },
    {
      "cell_type": "code",
      "source": [
        "for i,j in person_list.items():\n",
        "    Name.append(i)\n",
        "    City.append(j[1])\n",
        "    ID.append(j[2])"
      ],
      "metadata": {
        "id": "x4k9jkDLe2Iu"
      },
      "execution_count": null,
      "outputs": []
    },
    {
      "cell_type": "code",
      "source": [
        "new_person_list = {\"Name\":[i for i in Name],\"ID\":[i for i in ID], \"City\":[i for i in City]}"
      ],
      "metadata": {
        "id": "s5t1CLX2e6qO"
      },
      "execution_count": null,
      "outputs": []
    },
    {
      "cell_type": "code",
      "source": [
        "data = pandas.DataFrame(new_person_list)"
      ],
      "metadata": {
        "id": "g_-3kDlIfBto"
      },
      "execution_count": null,
      "outputs": []
    },
    {
      "cell_type": "code",
      "source": [
        "data.head()"
      ],
      "metadata": {
        "colab": {
          "base_uri": "https://localhost:8080/",
          "height": 206
        },
        "id": "YrF2C8AcgzD8",
        "outputId": "37897a20-8425-42fa-b44f-75fd148e52f3"
      },
      "execution_count": null,
      "outputs": [
        {
          "output_type": "execute_result",
          "data": {
            "text/plain": [
              "       Name                ID       City\n",
              "0   Mstibog  4277286289684439      Kerch\n",
              "1  Gertrude  4884536266993548  Collonges\n",
              "2   Domingo  9261543811457368      Elche\n",
              "3   Brandon  7115751848875236    Fontana\n",
              "4  Rozaliya  4979856129886448  Noviy Bug"
            ],
            "text/html": [
              "\n",
              "  <div id=\"df-de048792-5ce4-498d-b99a-9d3656fa1d75\">\n",
              "    <div class=\"colab-df-container\">\n",
              "      <div>\n",
              "<style scoped>\n",
              "    .dataframe tbody tr th:only-of-type {\n",
              "        vertical-align: middle;\n",
              "    }\n",
              "\n",
              "    .dataframe tbody tr th {\n",
              "        vertical-align: top;\n",
              "    }\n",
              "\n",
              "    .dataframe thead th {\n",
              "        text-align: right;\n",
              "    }\n",
              "</style>\n",
              "<table border=\"1\" class=\"dataframe\">\n",
              "  <thead>\n",
              "    <tr style=\"text-align: right;\">\n",
              "      <th></th>\n",
              "      <th>Name</th>\n",
              "      <th>ID</th>\n",
              "      <th>City</th>\n",
              "    </tr>\n",
              "  </thead>\n",
              "  <tbody>\n",
              "    <tr>\n",
              "      <th>0</th>\n",
              "      <td>Mstibog</td>\n",
              "      <td>4277286289684439</td>\n",
              "      <td>Kerch</td>\n",
              "    </tr>\n",
              "    <tr>\n",
              "      <th>1</th>\n",
              "      <td>Gertrude</td>\n",
              "      <td>4884536266993548</td>\n",
              "      <td>Collonges</td>\n",
              "    </tr>\n",
              "    <tr>\n",
              "      <th>2</th>\n",
              "      <td>Domingo</td>\n",
              "      <td>9261543811457368</td>\n",
              "      <td>Elche</td>\n",
              "    </tr>\n",
              "    <tr>\n",
              "      <th>3</th>\n",
              "      <td>Brandon</td>\n",
              "      <td>7115751848875236</td>\n",
              "      <td>Fontana</td>\n",
              "    </tr>\n",
              "    <tr>\n",
              "      <th>4</th>\n",
              "      <td>Rozaliya</td>\n",
              "      <td>4979856129886448</td>\n",
              "      <td>Noviy Bug</td>\n",
              "    </tr>\n",
              "  </tbody>\n",
              "</table>\n",
              "</div>\n",
              "      <button class=\"colab-df-convert\" onclick=\"convertToInteractive('df-de048792-5ce4-498d-b99a-9d3656fa1d75')\"\n",
              "              title=\"Convert this dataframe to an interactive table.\"\n",
              "              style=\"display:none;\">\n",
              "        \n",
              "  <svg xmlns=\"http://www.w3.org/2000/svg\" height=\"24px\"viewBox=\"0 0 24 24\"\n",
              "       width=\"24px\">\n",
              "    <path d=\"M0 0h24v24H0V0z\" fill=\"none\"/>\n",
              "    <path d=\"M18.56 5.44l.94 2.06.94-2.06 2.06-.94-2.06-.94-.94-2.06-.94 2.06-2.06.94zm-11 1L8.5 8.5l.94-2.06 2.06-.94-2.06-.94L8.5 2.5l-.94 2.06-2.06.94zm10 10l.94 2.06.94-2.06 2.06-.94-2.06-.94-.94-2.06-.94 2.06-2.06.94z\"/><path d=\"M17.41 7.96l-1.37-1.37c-.4-.4-.92-.59-1.43-.59-.52 0-1.04.2-1.43.59L10.3 9.45l-7.72 7.72c-.78.78-.78 2.05 0 2.83L4 21.41c.39.39.9.59 1.41.59.51 0 1.02-.2 1.41-.59l7.78-7.78 2.81-2.81c.8-.78.8-2.07 0-2.86zM5.41 20L4 18.59l7.72-7.72 1.47 1.35L5.41 20z\"/>\n",
              "  </svg>\n",
              "      </button>\n",
              "      \n",
              "  <style>\n",
              "    .colab-df-container {\n",
              "      display:flex;\n",
              "      flex-wrap:wrap;\n",
              "      gap: 12px;\n",
              "    }\n",
              "\n",
              "    .colab-df-convert {\n",
              "      background-color: #E8F0FE;\n",
              "      border: none;\n",
              "      border-radius: 50%;\n",
              "      cursor: pointer;\n",
              "      display: none;\n",
              "      fill: #1967D2;\n",
              "      height: 32px;\n",
              "      padding: 0 0 0 0;\n",
              "      width: 32px;\n",
              "    }\n",
              "\n",
              "    .colab-df-convert:hover {\n",
              "      background-color: #E2EBFA;\n",
              "      box-shadow: 0px 1px 2px rgba(60, 64, 67, 0.3), 0px 1px 3px 1px rgba(60, 64, 67, 0.15);\n",
              "      fill: #174EA6;\n",
              "    }\n",
              "\n",
              "    [theme=dark] .colab-df-convert {\n",
              "      background-color: #3B4455;\n",
              "      fill: #D2E3FC;\n",
              "    }\n",
              "\n",
              "    [theme=dark] .colab-df-convert:hover {\n",
              "      background-color: #434B5C;\n",
              "      box-shadow: 0px 1px 3px 1px rgba(0, 0, 0, 0.15);\n",
              "      filter: drop-shadow(0px 1px 2px rgba(0, 0, 0, 0.3));\n",
              "      fill: #FFFFFF;\n",
              "    }\n",
              "  </style>\n",
              "\n",
              "      <script>\n",
              "        const buttonEl =\n",
              "          document.querySelector('#df-de048792-5ce4-498d-b99a-9d3656fa1d75 button.colab-df-convert');\n",
              "        buttonEl.style.display =\n",
              "          google.colab.kernel.accessAllowed ? 'block' : 'none';\n",
              "\n",
              "        async function convertToInteractive(key) {\n",
              "          const element = document.querySelector('#df-de048792-5ce4-498d-b99a-9d3656fa1d75');\n",
              "          const dataTable =\n",
              "            await google.colab.kernel.invokeFunction('convertToInteractive',\n",
              "                                                     [key], {});\n",
              "          if (!dataTable) return;\n",
              "\n",
              "          const docLinkHtml = 'Like what you see? Visit the ' +\n",
              "            '<a target=\"_blank\" href=https://colab.research.google.com/notebooks/data_table.ipynb>data table notebook</a>'\n",
              "            + ' to learn more about interactive tables.';\n",
              "          element.innerHTML = '';\n",
              "          dataTable['output_type'] = 'display_data';\n",
              "          await google.colab.output.renderOutput(dataTable, element);\n",
              "          const docLink = document.createElement('div');\n",
              "          docLink.innerHTML = docLinkHtml;\n",
              "          element.appendChild(docLink);\n",
              "        }\n",
              "      </script>\n",
              "    </div>\n",
              "  </div>\n",
              "  "
            ]
          },
          "metadata": {},
          "execution_count": 10
        }
      ]
    },
    {
      "cell_type": "markdown",
      "source": [
        "# Abnormality Checker\n",
        "This is quite useful to check digits and format errors in KTP.\n",
        "Just need to change the code by a little."
      ],
      "metadata": {
        "id": "wYZU7aX2fRzM"
      }
    },
    {
      "cell_type": "markdown",
      "source": [],
      "metadata": {
        "id": "XVB8JjVUfw6N"
      }
    },
    {
      "cell_type": "code",
      "source": [
        "def abnormality_check(dataset,col):\n",
        "    global abnormality # Initialize variable to be used globally\n",
        "    abnormality = {}\n",
        "    validity = 1 # Validation checking\n",
        "    index = 0 # Rows measurement\n",
        "    x,x2 = 0,0 # Just to differentiate\n",
        "    for i in dataset[col]:\n",
        "        if len(i) != 16:\n",
        "            validity = 0\n",
        "            x+=1\n",
        "            abnormality[\"Invalid_lenght\"+str(x)] = [i]\n",
        "            abnormality[\"IL_row\"+str(x)] = index\n",
        "        if re.search(\"[A-Z]|[a-z]\",i) != None:\n",
        "            validity = 0\n",
        "            x2+=1\n",
        "            abnormality[\"Invalid_character\"+str(x2)] = [i]\n",
        "            abnormality[\"IC_row\"+str(x2)] = index\n",
        "        index += 1\n",
        "    if validity == 0:\n",
        "        print(\"Data Abnormality found!\")\n",
        "    else:\n",
        "        print(\"Data is normal.\")"
      ],
      "metadata": {
        "id": "Exn6Mw0xfTry"
      },
      "execution_count": null,
      "outputs": []
    },
    {
      "cell_type": "code",
      "source": [
        "# Using the column \"ID\" to check if there are abnormalities\n",
        "abnormality_check(data,\"ID\")"
      ],
      "metadata": {
        "colab": {
          "base_uri": "https://localhost:8080/"
        },
        "id": "TrPdTpTgfYnb",
        "outputId": "338718ec-99ba-448e-df70-628a33081cac"
      },
      "execution_count": null,
      "outputs": [
        {
          "output_type": "stream",
          "name": "stdout",
          "text": [
            "Data is normal.\n"
          ]
        }
      ]
    },
    {
      "cell_type": "markdown",
      "source": [
        "# Spice up the data to see if the algorithm works as intended"
      ],
      "metadata": {
        "id": "yzcVTaHAhlC2"
      }
    },
    {
      "cell_type": "code",
      "source": [
        "# Selection rows 38, 49, 52, 56, 65 and 68\n",
        "to_rpl = [38, 49, 52, 56, 65, 68]"
      ],
      "metadata": {
        "id": "MMxaqV8EkpDh"
      },
      "execution_count": null,
      "outputs": []
    },
    {
      "cell_type": "code",
      "source": [
        "for i in to_rpl:\n",
        "  print(data[\"ID\"][i])"
      ],
      "metadata": {
        "colab": {
          "base_uri": "https://localhost:8080/"
        },
        "id": "MSX_3vGzk0Gd",
        "outputId": "a7939243-8241-4348-bca4-66e9c7b8651f"
      },
      "execution_count": null,
      "outputs": [
        {
          "output_type": "stream",
          "name": "stdout",
          "text": [
            "2312449452767736\n",
            "6828456966964723\n",
            "2111452859854322\n",
            "4245916929456224\n",
            "3779596224433532\n",
            "4789611959713865\n"
          ]
        }
      ]
    },
    {
      "cell_type": "code",
      "source": [
        "data[\"ID\"] = data[\"ID\"].replace(to_replace=['2312449452767736'],value='232449452767736') # Omit 1\n",
        "data[\"ID\"] = data[\"ID\"].replace(to_replace=['6828456966964723'],value='682845696696423') # Omit 7\n",
        "data[\"ID\"] = data[\"ID\"].replace(to_replace=['2111452859854322'],value='211145285985322') # Omit 4\n",
        "data[\"ID\"] = data[\"ID\"].replace(to_replace=['3779596224433532'],value='3779S96224433S32') # 55 to SS\n",
        "data[\"ID\"] = data[\"ID\"].replace(to_replace=['4789611959713865'],value='47896II959713865') # 11 to II"
      ],
      "metadata": {
        "id": "0khE3uLctkPi"
      },
      "execution_count": null,
      "outputs": []
    },
    {
      "cell_type": "markdown",
      "source": [
        "## Checking again using the algorithm"
      ],
      "metadata": {
        "id": "wvXXIPrXi1no"
      }
    },
    {
      "cell_type": "code",
      "source": [
        "abnormality_check(data,\"ID\")"
      ],
      "metadata": {
        "colab": {
          "base_uri": "https://localhost:8080/"
        },
        "id": "ndub5a8Si0nn",
        "outputId": "4774c862-14ef-4a04-9d9d-c1db23c0e772"
      },
      "execution_count": null,
      "outputs": [
        {
          "output_type": "stream",
          "name": "stdout",
          "text": [
            "Data Abnormality found!\n"
          ]
        }
      ]
    },
    {
      "cell_type": "code",
      "source": [
        "abnormality"
      ],
      "metadata": {
        "colab": {
          "base_uri": "https://localhost:8080/"
        },
        "id": "DtCB_Szdlbai",
        "outputId": "fa8ea98b-affa-4bd0-90bf-1d2f4efb709f"
      },
      "execution_count": null,
      "outputs": [
        {
          "output_type": "execute_result",
          "data": {
            "text/plain": [
              "{'Invalid_lenght1': ['232449452767736'],\n",
              " 'IL_row1': 38,\n",
              " 'Invalid_lenght2': ['682845696696423'],\n",
              " 'IL_row2': 49,\n",
              " 'Invalid_lenght3': ['211145285985322'],\n",
              " 'IL_row3': 52,\n",
              " 'Invalid_character1': ['3779S96224433S32'],\n",
              " 'IC_row1': 65,\n",
              " 'Invalid_character2': ['47896II959713865'],\n",
              " 'IC_row2': 68}"
            ]
          },
          "metadata": {},
          "execution_count": 20
        }
      ]
    }
  ]
}